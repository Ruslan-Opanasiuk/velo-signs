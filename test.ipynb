{
 "cells": [
  {
   "cell_type": "code",
   "execution_count": null,
   "id": "0ba8f79e",
   "metadata": {},
   "outputs": [],
   "source": [
    "  const thickness = h1 * (1 - 20/24)\n",
    "  const h2 = h1 - thickness;\n",
    "  const w1 = 0.75 * h1;\n",
    "  const w2 = w1 - thickness;\n",
    "\n",
    "  const outerX = 0;\n",
    "  const outerY = 0;\n",
    "\n",
    "  const innerX = (w1 - w2) / 2;\n",
    "  const innerY = (h1 - h2) / 2;\n",
    "\n",
    "  const r1 = h1 * 0.15;\n",
    "  const r2 = h2 * 0.125;"
   ]
  },
  {
   "cell_type": "code",
   "execution_count": 2,
   "id": "4948a608",
   "metadata": {},
   "outputs": [
    {
     "data": {
      "text/plain": [
       "84.33666666666666"
      ]
     },
     "execution_count": 2,
     "metadata": {},
     "output_type": "execute_result"
    }
   ],
   "source": [
    "h1 = 92\n",
    "w1 = 26/24 * h1 - 15.33\n",
    "w1"
   ]
  },
  {
   "cell_type": "code",
   "execution_count": null,
   "id": "175fdd81",
   "metadata": {},
   "outputs": [],
   "source": []
  }
 ],
 "metadata": {
  "kernelspec": {
   "display_name": "Python 3",
   "language": "python",
   "name": "python3"
  },
  "language_info": {
   "codemirror_mode": {
    "name": "ipython",
    "version": 3
   },
   "file_extension": ".py",
   "mimetype": "text/x-python",
   "name": "python",
   "nbconvert_exporter": "python",
   "pygments_lexer": "ipython3",
   "version": "3.12.0"
  }
 },
 "nbformat": 4,
 "nbformat_minor": 5
}
